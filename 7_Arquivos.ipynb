{
  "nbformat": 4,
  "nbformat_minor": 0,
  "metadata": {
    "colab": {
      "provenance": [],
      "authorship_tag": "ABX9TyMdhGLLWq/Qj+ilh+3bHoTb",
      "include_colab_link": true
    },
    "kernelspec": {
      "name": "python3",
      "display_name": "Python 3"
    },
    "language_info": {
      "name": "python"
    }
  },
  "cells": [
    {
      "cell_type": "markdown",
      "metadata": {
        "id": "view-in-github",
        "colab_type": "text"
      },
      "source": [
        "<a href=\"https://colab.research.google.com/github/GilbertoCNetto/Exercicios-Arquivos/blob/main/7_Arquivos.ipynb\" target=\"_parent\"><img src=\"https://colab.research.google.com/assets/colab-badge.svg\" alt=\"Open In Colab\"/></a>"
      ]
    },
    {
      "cell_type": "code",
      "execution_count": 43,
      "metadata": {
        "colab": {
          "base_uri": "https://localhost:8080/"
        },
        "id": "lLdHE418uh-c",
        "outputId": "4aee60f9-fc83-4bca-eeb4-d8dcbb629593"
      },
      "outputs": [
        {
          "output_type": "stream",
          "name": "stdout",
          "text": [
            "Arquivo 'financeiro.log' criado com sucesso.\n",
            "Saldo financeiro da empresa: 700\n"
          ]
        }
      ],
      "source": [
        "# 1 Ler o Arquivp financeiro.log e imprimir o saldo financeiro da empresa\n",
        "conteudo = \"\"\"1000 capital inicial\n",
        "-500 compra de matéria-prima\n",
        "-200 mão de obra\n",
        "400 venda do primeiro lote\n",
        "300 venda do segundo lote\n",
        "-300 aluguel da fábrica\n",
        "\"\"\"\n",
        "\n",
        "# Criando e escrevendo no arquivo 'financeiro.log'\n",
        "with open('financeiro.log', 'w') as arquivo:\n",
        "    arquivo.write(conteudo)\n",
        "\n",
        "print(\"Arquivo 'financeiro.log' criado com sucesso.\")\n",
        "def calcular_saldo():\n",
        "    saldo = 0\n",
        "    try:\n",
        "        with open('financeiro.log', 'r') as arquivo:\n",
        "            for linha in arquivo:\n",
        "                valor = int(linha.split()[0])\n",
        "                saldo += valor\n",
        "        print(f'Saldo financeiro da empresa: {saldo}')\n",
        "    except FileNotFoundError:\n",
        "        print(\"O arquivo financeiro.log não foi encontrado.\")\n",
        "    except Exception as e:\n",
        "        print(f\"Ocorreu um erro: {e}\")\n",
        "\n",
        "calcular_saldo()"
      ]
    },
    {
      "cell_type": "code",
      "source": [
        "def registrar_entrada_com_leitura(valor, descricao):\n",
        "    try:\n",
        "\n",
        "        arquivo = open(\"financeiro.log\", \"a\")\n",
        "        registro = f\"{valor} - {descricao}\\n\"\n",
        "        arquivo.write(registro)\n",
        "        arquivo.close()\n",
        "\n",
        "        # Leitura do arquivo após a gravação\n",
        "        with open(\"financeiro.log\", \"r\") as arquivo:\n",
        "            conteudo = arquivo.read()\n",
        "        print(\"Entrada registrada com sucesso!\")\n",
        "        print(f\"Conteúdo do arquivo:\\n{conteudo}\")\n",
        "\n",
        "    except ValueError as e:\n",
        "        print(f\"Erro: {e}\")\n",
        "    except Exception as e:\n",
        "        print(f\"Erro inesperado: {e}\")\n",
        "\n",
        "valor = input(\"Digite o valor: \")\n",
        "descricao = input(\"Digite a descrição: \")\n",
        "\n",
        "registrar_entrada_com_leitura(valor, descricao)"
      ],
      "metadata": {
        "colab": {
          "base_uri": "https://localhost:8080/"
        },
        "id": "SYE2T4EGG21y",
        "outputId": "d4744939-f734-4753-b485-26dd5581d106"
      },
      "execution_count": 44,
      "outputs": [
        {
          "output_type": "stream",
          "name": "stdout",
          "text": [
            "Digite o valor: 150\n",
            "Digite a descrição: valor ganho\n",
            "Entrada registrada com sucesso!\n",
            "Conteúdo do arquivo:\n",
            "1000 capital inicial\n",
            "-500 compra de matéria-prima\n",
            "-200 mão de obra\n",
            "400 venda do primeiro lote\n",
            "300 venda do segundo lote\n",
            "-300 aluguel da fábrica\n",
            "150 - valor ganho\n",
            "\n"
          ]
        }
      ]
    },
    {
      "cell_type": "code",
      "source": [
        "# 3 Substituir strings\n",
        "arquivo1 = '''olá mundo'''\n",
        "arquivo2 = '''como vai?'''\n",
        "\n",
        "with open('arquivo1.txt', 'w') as arquivo:\n",
        "    arquivo.write(arquivo1)\n",
        "with open('arquivo2.txt', 'w') as arquivo:\n",
        "    arquivo.write(arquivo2)\n",
        "print(arquivo1)\n",
        "print(arquivo2)\n",
        "# Abre o arquivo para leitura\n",
        "with open(\"arquivo1.txt\", \"r\") as arquivo:\n",
        "    # Lê o conteúdo do arquivo\n",
        "    conteudo = arquivo.read()\n",
        "\n",
        "# Substitui a palavra desejada\n",
        "arquivo2 = conteudo.replace(\"palavra_antiga\", \"palavra_nova\")\n",
        "\n",
        "# Abre o arquivo para escrita\n",
        "with open(\"arquivo2.txt\", \"w\") as arquivo:\n",
        "    # Escreve o novo conteúdo no arquivo\n",
        "    arquivo.write(arquivo2)\n",
        "print('\\n' + arquivo1)\n",
        "print(arquivo2)"
      ],
      "metadata": {
        "colab": {
          "base_uri": "https://localhost:8080/"
        },
        "id": "ofGSuTYtxepE",
        "outputId": "4bad5b42-9176-44dc-ac64-55f2b392af9a"
      },
      "execution_count": 66,
      "outputs": [
        {
          "output_type": "stream",
          "name": "stdout",
          "text": [
            "olá mundo\n",
            "como vai?\n",
            "\n",
            "olá mundo\n",
            "olá mundo\n"
          ]
        }
      ]
    }
  ]
}